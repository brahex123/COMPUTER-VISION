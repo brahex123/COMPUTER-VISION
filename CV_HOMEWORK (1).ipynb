{
  "nbformat": 4,
  "nbformat_minor": 0,
  "metadata": {
    "colab": {
      "provenance": []
    },
    "kernelspec": {
      "name": "python3",
      "display_name": "Python 3"
    },
    "language_info": {
      "name": "python"
    }
  },
  "cells": [
    {
      "cell_type": "code",
      "source": [
        "import numpy as np\n",
        "import tensorflow as tf\n",
        "from tensorflow.keras import datasets, layers, models\n",
        "from sklearn.metrics import classification_report, confusion_matrix\n",
        "import seaborn as sns\n",
        "import matplotlib.pyplot as plt\n"
      ],
      "metadata": {
        "id": "rP9fXCN1g6--"
      },
      "execution_count": 1,
      "outputs": []
    },
    {
      "cell_type": "markdown",
      "source": [
        "In this cell, we import the essential libraries for our task. We use TensorFlow and Keras for building and training the Convolutional Neural Network (CNN). Additionally, we import NumPy for numerical operations, and libraries from scikit-learn and seaborn for evaluating our model and visualizing results"
      ],
      "metadata": {
        "id": "lAxWjoHjhEkN"
      }
    },
    {
      "cell_type": "code",
      "source": [
        "(train_images, train_labels), (test_images, test_labels) = datasets.cifar10.load_data()\n",
        "train_labels = train_labels.flatten()\n",
        "test_labels = test_labels.flatten()\n",
        "\n",
        "\n",
        "can_fly = [0, 2]  # airplane, bird\n",
        "cannot_fly = [1, 3, 4, 5, 6, 7, 8, 9]  # all other classes\n",
        "\n",
        "train_labels = np.array([1 if label in can_fly else 0 for label in train_labels])\n",
        "test_labels = np.array([1 if label in can_fly else 0 for label in test_labels])\n",
        "\n",
        "train_images, test_images = train_images / 255.0, test_images / 255.0\n"
      ],
      "metadata": {
        "colab": {
          "base_uri": "https://localhost:8080/"
        },
        "id": "D4O_YLhPhFjL",
        "outputId": "c1772e7c-36da-448c-8c5d-c25b61821458"
      },
      "execution_count": 2,
      "outputs": [
        {
          "output_type": "stream",
          "name": "stdout",
          "text": [
            "Downloading data from https://www.cs.toronto.edu/~kriz/cifar-10-python.tar.gz\n",
            "170498071/170498071 [==============================] - 2s 0us/step\n"
          ]
        }
      ]
    },
    {
      "cell_type": "markdown",
      "source": [
        "In this cell, we load the CIFAR-10 dataset, which consists of 60,000 32x32 color images in 10 different classes. We then define two categories: 'can fly' and 'cannot fly'. We create binary labels for this classification task and normalize the pixel values of the images to range between 0 and 1 for better model performance."
      ],
      "metadata": {
        "id": "NRe4enQphQbD"
      }
    },
    {
      "cell_type": "code",
      "source": [
        "model = models.Sequential()\n",
        "model.add(layers.Conv2D(32, (3, 3), activation='relu', input_shape=(32, 32, 3)))\n",
        "model.add(layers.MaxPooling2D((2, 2)))\n",
        "model.add(layers.Conv2D(64, (3, 3), activation='relu'))\n",
        "model.add(layers.MaxPooling2D((2, 2)))\n",
        "model.add(layers.Conv2D(64, (3, 3), activation='relu'))\n",
        "model.add(layers.Flatten())\n",
        "model.add(layers.Dense(64, activation='relu'))\n",
        "model.add(layers.Dense(1, activation='sigmoid'))\n"
      ],
      "metadata": {
        "id": "O8cnbKrnhUfm"
      },
      "execution_count": 3,
      "outputs": []
    },
    {
      "cell_type": "markdown",
      "source": [
        "Here, we build the architecture of our Convolutional Neural Network (CNN). The model consists of multiple convolutional layers with ReLU activation functions and max pooling layers to reduce the spatial dimensions. After flattening the output, we add a dense layer followed by a final output layer with a sigmoid activation function to perform binary classification."
      ],
      "metadata": {
        "id": "kl-ld8aChbxB"
      }
    },
    {
      "cell_type": "code",
      "source": [
        "model.compile(optimizer='adam',\n",
        "              loss='binary_crossentropy',\n",
        "              metrics=['accuracy'])\n"
      ],
      "metadata": {
        "id": "vIVN4SG5hcw_"
      },
      "execution_count": 4,
      "outputs": []
    },
    {
      "cell_type": "markdown",
      "source": [
        "In this cell, we compile our model. We use the Adam optimizer for efficient training, binary cross-entropy as the loss function suitable for binary classification, and accuracy as a metric to evaluate the model's performance during training and testing."
      ],
      "metadata": {
        "id": "FS7bXe9rhhIJ"
      }
    },
    {
      "cell_type": "code",
      "source": [
        "history = model.fit(train_images, train_labels, epochs=10,\n",
        "                    validation_data=(test_images, test_labels))\n"
      ],
      "metadata": {
        "colab": {
          "base_uri": "https://localhost:8080/"
        },
        "id": "S04nv86ohjtb",
        "outputId": "fd8fc183-2d82-4dd6-e7b3-b1f643195bbf"
      },
      "execution_count": 5,
      "outputs": [
        {
          "output_type": "stream",
          "name": "stdout",
          "text": [
            "Epoch 1/10\n",
            "1563/1563 [==============================] - 78s 49ms/step - loss: 0.4100 - accuracy: 0.8279 - val_loss: 0.3557 - val_accuracy: 0.8584\n",
            "Epoch 2/10\n",
            "1563/1563 [==============================] - 92s 59ms/step - loss: 0.3358 - accuracy: 0.8627 - val_loss: 0.3064 - val_accuracy: 0.8800\n",
            "Epoch 3/10\n",
            "1563/1563 [==============================] - 73s 47ms/step - loss: 0.3022 - accuracy: 0.8780 - val_loss: 0.3044 - val_accuracy: 0.8791\n",
            "Epoch 4/10\n",
            "1563/1563 [==============================] - 72s 46ms/step - loss: 0.2790 - accuracy: 0.8875 - val_loss: 0.3052 - val_accuracy: 0.8785\n",
            "Epoch 5/10\n",
            "1563/1563 [==============================] - 74s 48ms/step - loss: 0.2599 - accuracy: 0.8958 - val_loss: 0.2948 - val_accuracy: 0.8836\n",
            "Epoch 6/10\n",
            "1563/1563 [==============================] - 74s 47ms/step - loss: 0.2415 - accuracy: 0.9036 - val_loss: 0.2836 - val_accuracy: 0.8840\n",
            "Epoch 7/10\n",
            "1563/1563 [==============================] - 72s 46ms/step - loss: 0.2210 - accuracy: 0.9122 - val_loss: 0.2741 - val_accuracy: 0.8906\n",
            "Epoch 8/10\n",
            "1563/1563 [==============================] - 72s 46ms/step - loss: 0.2047 - accuracy: 0.9188 - val_loss: 0.2871 - val_accuracy: 0.8898\n",
            "Epoch 9/10\n",
            "1563/1563 [==============================] - 74s 47ms/step - loss: 0.1881 - accuracy: 0.9268 - val_loss: 0.2996 - val_accuracy: 0.8935\n",
            "Epoch 10/10\n",
            "1563/1563 [==============================] - 72s 46ms/step - loss: 0.1730 - accuracy: 0.9321 - val_loss: 0.3005 - val_accuracy: 0.8962\n"
          ]
        }
      ]
    },
    {
      "cell_type": "markdown",
      "source": [
        "We train our model in this cell using the training images and labels. The training process runs for 10 epochs, and the model's performance is validated on the test dataset after each epoch. The training history, including loss and accuracy over epochs, is stored for further analysis."
      ],
      "metadata": {
        "id": "N_qYw4-8hyZQ"
      }
    },
    {
      "cell_type": "code",
      "source": [
        "predictions = model.predict(test_images)\n",
        "predictions = (predictions > 0.5).astype(int)\n",
        "\n",
        "print(\"Classification Report:\")\n",
        "print(classification_report(test_labels, predictions))\n"
      ],
      "metadata": {
        "colab": {
          "base_uri": "https://localhost:8080/"
        },
        "id": "ceX464Eahzfi",
        "outputId": "e96afbe7-6518-471c-9afb-e5de56f17caa"
      },
      "execution_count": 6,
      "outputs": [
        {
          "output_type": "stream",
          "name": "stdout",
          "text": [
            "313/313 [==============================] - 4s 13ms/step\n",
            "Classification Report:\n",
            "              precision    recall  f1-score   support\n",
            "\n",
            "           0       0.93      0.94      0.94      8000\n",
            "           1       0.76      0.70      0.73      2000\n",
            "\n",
            "    accuracy                           0.90     10000\n",
            "   macro avg       0.84      0.82      0.83     10000\n",
            "weighted avg       0.89      0.90      0.89     10000\n",
            "\n"
          ]
        }
      ]
    },
    {
      "cell_type": "markdown",
      "source": [
        "In this cell, we evaluate the trained model on the test dataset. We generate predictions and convert them to binary values. We then print a classification report, which includes precision, recall, F1 score, and accuracy for a detailed performance analysis."
      ],
      "metadata": {
        "id": "9loQhDvjh4Ca"
      }
    },
    {
      "cell_type": "code",
      "source": [
        "print(\"Confusion Matrix:\")\n",
        "cm = confusion_matrix(test_labels, predictions)\n",
        "sns.heatmap(cm, annot=True, fmt='d')\n",
        "plt.xlabel('Predicted')\n",
        "plt.ylabel('True')\n",
        "plt.show()\n"
      ],
      "metadata": {
        "colab": {
          "base_uri": "https://localhost:8080/",
          "height": 466
        },
        "id": "zZO_g9Ivh6ke",
        "outputId": "81a60a44-75a1-4e59-b4c7-8fd457c178a1"
      },
      "execution_count": 7,
      "outputs": [
        {
          "output_type": "stream",
          "name": "stdout",
          "text": [
            "Confusion Matrix:\n"
          ]
        },
        {
          "output_type": "display_data",
          "data": {
            "text/plain": [
              "<Figure size 640x480 with 2 Axes>"
            ],
            "image/png": "[encoded data removed]"
          },
          "metadata": {}
        }
      ]
    },
    {
      "cell_type": "markdown",
      "source": [
        "Finally, we create and display a confusion matrix to visualize the performance of our model in distinguishing between the two classes. The confusion matrix helps us understand the true positives, true negatives, false positives, and false negatives in our predictions, providing deeper insights into model performance. We use seaborn to generate a heatmap for better visualization."
      ],
      "metadata": {
        "id": "gPQbAJO9h_VF"
      }
    },
    {
      "cell_type": "code",
      "source": [],
      "metadata": {
        "id": "O6ZxCUs2iCNE"
      },
      "execution_count": null,
      "outputs": []
    }
  ]
}